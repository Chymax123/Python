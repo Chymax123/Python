{
 "cells": [
  {
   "cell_type": "code",
   "execution_count": 2,
   "id": "185277f4",
   "metadata": {},
   "outputs": [
    {
     "name": "stdout",
     "output_type": "stream",
     "text": [
      "Hello, world!\n"
     ]
    }
   ],
   "source": [
    "print(\"Hello, world!\")"
   ]
  },
  {
   "cell_type": "code",
   "execution_count": 3,
   "id": "b34b86ca",
   "metadata": {},
   "outputs": [
    {
     "data": {
      "text/plain": [
       "4"
      ]
     },
     "execution_count": 3,
     "metadata": {},
     "output_type": "execute_result"
    }
   ],
   "source": [
    "2+2"
   ]
  },
  {
   "cell_type": "code",
   "execution_count": 4,
   "id": "0eee2e99",
   "metadata": {},
   "outputs": [
    {
     "data": {
      "text/plain": [
       "'I am Chiamaka'"
      ]
     },
     "execution_count": 4,
     "metadata": {},
     "output_type": "execute_result"
    }
   ],
   "source": [
    "\"I am\" + \" \" + \"Chiamaka\""
   ]
  },
  {
   "cell_type": "code",
   "execution_count": 5,
   "id": "41512ef5",
   "metadata": {},
   "outputs": [
    {
     "data": {
      "text/plain": [
       "4.0"
      ]
     },
     "execution_count": 5,
     "metadata": {},
     "output_type": "execute_result"
    }
   ],
   "source": [
    "2.0 + 2.0"
   ]
  },
  {
   "cell_type": "code",
   "execution_count": 6,
   "id": "68b761f3",
   "metadata": {},
   "outputs": [
    {
     "data": {
      "text/plain": [
       "str"
      ]
     },
     "execution_count": 6,
     "metadata": {},
     "output_type": "execute_result"
    }
   ],
   "source": [
    "type (\"Chiamaka\")"
   ]
  },
  {
   "cell_type": "code",
   "execution_count": 7,
   "id": "09559fcb",
   "metadata": {},
   "outputs": [
    {
     "data": {
      "text/plain": [
       "int"
      ]
     },
     "execution_count": 7,
     "metadata": {},
     "output_type": "execute_result"
    }
   ],
   "source": [
    "type (4)"
   ]
  },
  {
   "cell_type": "code",
   "execution_count": 8,
   "id": "46d1018f",
   "metadata": {},
   "outputs": [
    {
     "data": {
      "text/plain": [
       "float"
      ]
     },
     "execution_count": 8,
     "metadata": {},
     "output_type": "execute_result"
    }
   ],
   "source": [
    "type (4.0)"
   ]
  },
  {
   "cell_type": "code",
   "execution_count": 10,
   "id": "06dd5923",
   "metadata": {},
   "outputs": [
    {
     "name": "stdout",
     "output_type": "stream",
     "text": [
      "2\n"
     ]
    }
   ],
   "source": [
    "print(2)"
   ]
  },
  {
   "cell_type": "code",
   "execution_count": 11,
   "id": "936dc0c0",
   "metadata": {},
   "outputs": [
    {
     "name": "stdout",
     "output_type": "stream",
     "text": [
      "3.0\n"
     ]
    }
   ],
   "source": [
    "print(3.0)"
   ]
  },
  {
   "cell_type": "code",
   "execution_count": 13,
   "id": "ef7ff3bb",
   "metadata": {},
   "outputs": [],
   "source": [
    "my_name = \"Chiamaka\""
   ]
  },
  {
   "cell_type": "code",
   "execution_count": 14,
   "id": "5f24f3b7",
   "metadata": {},
   "outputs": [
    {
     "data": {
      "text/plain": [
       "'Chiamaka'"
      ]
     },
     "execution_count": 14,
     "metadata": {},
     "output_type": "execute_result"
    }
   ],
   "source": [
    "my_name"
   ]
  },
  {
   "cell_type": "code",
   "execution_count": 15,
   "id": "cd17d3f9",
   "metadata": {},
   "outputs": [
    {
     "name": "stdout",
     "output_type": "stream",
     "text": [
      "Chiamaka is a girl\n",
      "Chiamaka is going to school\n",
      "Chiamaka is at home\n"
     ]
    }
   ],
   "source": [
    "print(\"Chiamaka is a girl\")\n",
    "print(\"Chiamaka is going to school\")\n",
    "print(\"Chiamaka is at home\")"
   ]
  },
  {
   "cell_type": "code",
   "execution_count": 24,
   "id": "17dc87c8",
   "metadata": {},
   "outputs": [],
   "source": [
    "name = \"Chymax\""
   ]
  },
  {
   "cell_type": "code",
   "execution_count": 25,
   "id": "0bf068f4",
   "metadata": {},
   "outputs": [
    {
     "name": "stdout",
     "output_type": "stream",
     "text": [
      "Chymax is a girl\n"
     ]
    }
   ],
   "source": [
    "print(name, \"is a girl\")"
   ]
  },
  {
   "cell_type": "code",
   "execution_count": 26,
   "id": "30d5698a",
   "metadata": {},
   "outputs": [
    {
     "name": "stdout",
     "output_type": "stream",
     "text": [
      "Chymax is a girl\n"
     ]
    }
   ],
   "source": [
    "print(f\"{name} is a girl\")"
   ]
  },
  {
   "cell_type": "code",
   "execution_count": 27,
   "id": "36eeefb2",
   "metadata": {},
   "outputs": [],
   "source": [
    "name = \"Makkie\"\n",
    "school = \"Model\""
   ]
  },
  {
   "cell_type": "code",
   "execution_count": 28,
   "id": "fcff3d64",
   "metadata": {},
   "outputs": [
    {
     "name": "stdout",
     "output_type": "stream",
     "text": [
      "Makkie is attending Model\n"
     ]
    }
   ],
   "source": [
    "print(name, \"is attending\", school)"
   ]
  },
  {
   "cell_type": "code",
   "execution_count": 30,
   "id": "a85a3c63",
   "metadata": {},
   "outputs": [
    {
     "name": "stdout",
     "output_type": "stream",
     "text": [
      "Makkie is attending Model\n"
     ]
    }
   ],
   "source": [
    "print(f\"{name} is attending {school}\")"
   ]
  },
  {
   "cell_type": "code",
   "execution_count": 2,
   "id": "1db0d4e8",
   "metadata": {},
   "outputs": [
    {
     "name": "stdout",
     "output_type": "stream",
     "text": [
      "name, is a girl\n"
     ]
    }
   ],
   "source": [
    "print(f\"name, is a girl\")"
   ]
  }
 ],
 "metadata": {
  "kernelspec": {
   "display_name": "Python 3 (ipykernel)",
   "language": "python",
   "name": "python3"
  },
  "language_info": {
   "codemirror_mode": {
    "name": "ipython",
    "version": 3
   },
   "file_extension": ".py",
   "mimetype": "text/x-python",
   "name": "python",
   "nbconvert_exporter": "python",
   "pygments_lexer": "ipython3",
   "version": "3.9.13"
  }
 },
 "nbformat": 4,
 "nbformat_minor": 5
}

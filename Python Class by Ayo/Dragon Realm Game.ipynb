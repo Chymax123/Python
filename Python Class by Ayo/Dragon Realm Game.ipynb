{
 "cells": [
  {
   "cell_type": "code",
   "execution_count": null,
   "id": "d90353e8",
   "metadata": {
    "scrolled": true
   },
   "outputs": [
    {
     "name": "stdout",
     "output_type": "stream",
     "text": [
      "You are in a land full of dragons. In front of you,\n",
      "    you see two caves. In one cave, the dragon is friendly and\n",
      "    will share his treasure with you. The other dragon is \n",
      "    greedy and hunger, and will eat you on sight.\n",
      "Which cave do you want to go into? (1 or 2)\n",
      "1\n",
      "You approach the cave...\n",
      "It is dark and spooky...\n",
      "A large dragon jumps out in front of you! He opens his jaws and...\n",
      "\n",
      "Eats you up!\n",
      "Do you want to play again (yes or no)\n",
      "yes\n",
      "You are in a land full of dragons. In front of you,\n",
      "    you see two caves. In one cave, the dragon is friendly and\n",
      "    will share his treasure with you. The other dragon is \n",
      "    greedy and hunger, and will eat you on sight.\n",
      "Which cave do you want to go into? (1 or 2)\n",
      "2\n",
      "You approach the cave...\n",
      "It is dark and spooky...\n",
      "A large dragon jumps out in front of you! He opens his jaws and...\n",
      "\n",
      "Eats you up!\n",
      "Do you want to play again (yes or no)\n",
      "yes\n",
      "You are in a land full of dragons. In front of you,\n",
      "    you see two caves. In one cave, the dragon is friendly and\n",
      "    will share his treasure with you. The other dragon is \n",
      "    greedy and hunger, and will eat you on sight.\n",
      "Which cave do you want to go into? (1 or 2)\n",
      "2\n",
      "You approach the cave...\n",
      "It is dark and spooky...\n",
      "A large dragon jumps out in front of you! He opens his jaws and...\n",
      "\n",
      "Gives you his treasure!\n",
      "Do you want to play again (yes or no)\n"
     ]
    }
   ],
   "source": [
    "import random\n",
    "import time\n",
    "\n",
    "\n",
    "PLAY_AGAIN = \"yes\"\n",
    "\n",
    "\n",
    "# 1. introduce the user to the dragon realm\n",
    "def intro():\n",
    "    print('''You are in a land full of dragons. In front of you,\n",
    "    you see two caves. In one cave, the dragon is friendly and\n",
    "    will share his treasure with you. The other dragon is \n",
    "    greedy and hunger, and will eat you on sight.''')\n",
    "\n",
    "\n",
    "# 2. User chooses a cave\n",
    "def choose_cave():\n",
    "    cave = \"\"\n",
    "    while cave != \"1\" and cave != \"2\":\n",
    "        print(\"Which cave do you want to go into? (1 or 2)\")\n",
    "        cave = input()\n",
    "\n",
    "    return cave\n",
    "\n",
    "\n",
    "# 3.Check the cave the user chooses\n",
    "def check_cave(choice: str):\n",
    "    friendly_cave = random.randint(1, 2)\n",
    "    print(\"You approach the cave...\")\n",
    "    time.sleep(3)\n",
    "    print(\"It is dark and spooky...\")\n",
    "    time.sleep(3)\n",
    "    print(\"A large dragon jumps out in front of you! He opens his jaws and...\")\n",
    "    print()\n",
    "    time.sleep(3)\n",
    "\n",
    "    if choice == str(friendly_cave):\n",
    "        print(\"Gives you his treasure!\")\n",
    "    else:\n",
    "        print(\"Eats you up!\")\n",
    "\n",
    "\n",
    "while PLAY_AGAIN == \"yes\":\n",
    "    intro()\n",
    "    user_choice = choose_cave()\n",
    "    check_cave(user_choice)  \n",
    "    # function interface for check_cave function\n",
    "\n",
    "    print(\"Do you want to play again (yes or no)\")\n",
    "    PLAY_AGAIN = input()"
   ]
  },
  {
   "cell_type": "code",
   "execution_count": null,
   "id": "7f5ed03b",
   "metadata": {},
   "outputs": [],
   "source": []
  }
 ],
 "metadata": {
  "kernelspec": {
   "display_name": "Python 3 (ipykernel)",
   "language": "python",
   "name": "python3"
  },
  "language_info": {
   "codemirror_mode": {
    "name": "ipython",
    "version": 3
   },
   "file_extension": ".py",
   "mimetype": "text/x-python",
   "name": "python",
   "nbconvert_exporter": "python",
   "pygments_lexer": "ipython3",
   "version": "3.9.13"
  }
 },
 "nbformat": 4,
 "nbformat_minor": 5
}

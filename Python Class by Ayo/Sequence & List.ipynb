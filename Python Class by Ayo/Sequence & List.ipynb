{
 "cells": [
  {
   "cell_type": "code",
   "execution_count": 1,
   "id": "624963ef",
   "metadata": {},
   "outputs": [
    {
     "data": {
      "text/plain": [
       "13"
      ]
     },
     "execution_count": 1,
     "metadata": {},
     "output_type": "execute_result"
    }
   ],
   "source": [
    "# What is a Sequence? A sequence is a collection of items (data types)\n",
    "# 1. Indexing: is a way to get an item in a sequence\n",
    "# 2. They have a length attribute\n",
    "\n",
    "name = \"Makkie Chymax\"\n",
    "len(name)"
   ]
  },
  {
   "cell_type": "code",
   "execution_count": 2,
   "id": "9d263939",
   "metadata": {},
   "outputs": [
    {
     "data": {
      "text/plain": [
       "'M'"
      ]
     },
     "execution_count": 2,
     "metadata": {},
     "output_type": "execute_result"
    }
   ],
   "source": [
    "name[0]"
   ]
  },
  {
   "cell_type": "code",
   "execution_count": 4,
   "id": "2f783175",
   "metadata": {},
   "outputs": [
    {
     "data": {
      "text/plain": [
       "'Makkie'"
      ]
     },
     "execution_count": 4,
     "metadata": {},
     "output_type": "execute_result"
    }
   ],
   "source": [
    "name[0:6]"
   ]
  },
  {
   "cell_type": "code",
   "execution_count": 5,
   "id": "4faca95c",
   "metadata": {},
   "outputs": [
    {
     "data": {
      "text/plain": [
       "'ie Chymax'"
      ]
     },
     "execution_count": 5,
     "metadata": {},
     "output_type": "execute_result"
    }
   ],
   "source": [
    "name[4:]"
   ]
  },
  {
   "cell_type": "code",
   "execution_count": 7,
   "id": "40b2e249",
   "metadata": {},
   "outputs": [
    {
     "data": {
      "text/plain": [
       "7"
      ]
     },
     "execution_count": 7,
     "metadata": {},
     "output_type": "execute_result"
    }
   ],
   "source": [
    "number = 1234567\n",
    "number_string = str(number)\n",
    "len(number_string)"
   ]
  },
  {
   "cell_type": "code",
   "execution_count": null,
   "id": "31e604ee",
   "metadata": {},
   "outputs": [],
   "source": [
    "# List is the most common sequence\n",
    "# 1. List declaration: [1, 2, 3, 4]\n",
    "list_of_numbers = [1, 2, 3, 4, 5]\n",
    "list_of_names = [Ope, Makkie, Ayo]\n",
    "mix_list = [1, 2, 3, Ope, Makkie, Ayo]\n",
    "list_of_list = [[1, 2, 3], [4, 5, 6]] #multidimensional arrays"
   ]
  },
  {
   "cell_type": "code",
   "execution_count": 12,
   "id": "7c00c7eb",
   "metadata": {},
   "outputs": [
    {
     "data": {
      "text/plain": [
       "5"
      ]
     },
     "execution_count": 12,
     "metadata": {},
     "output_type": "execute_result"
    }
   ],
   "source": [
    "len(list_of_numbers)"
   ]
  }
 ],
 "metadata": {
  "kernelspec": {
   "display_name": "Python 3 (ipykernel)",
   "language": "python",
   "name": "python3"
  },
  "language_info": {
   "codemirror_mode": {
    "name": "ipython",
    "version": 3
   },
   "file_extension": ".py",
   "mimetype": "text/x-python",
   "name": "python",
   "nbconvert_exporter": "python",
   "pygments_lexer": "ipython3",
   "version": "3.9.13"
  }
 },
 "nbformat": 4,
 "nbformat_minor": 5
}

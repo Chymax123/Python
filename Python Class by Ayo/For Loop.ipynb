{
 "cells": [
  {
   "cell_type": "code",
   "execution_count": 2,
   "id": "c62321b8",
   "metadata": {},
   "outputs": [
    {
     "name": "stdout",
     "output_type": "stream",
     "text": [
      "0\n",
      "1\n",
      "2\n",
      "3\n",
      "4\n",
      "5\n",
      "6\n",
      "7\n",
      "8\n",
      "9\n"
     ]
    }
   ],
   "source": [
    "# How do you create an iterator? What exactly is an iterator?\n",
    "#1. Sequence - list, dictionary,float and so on\n",
    "#2. Use the range function. Allows us to create an iterator from numbers (integers)\n",
    "   #range(start, stop, step)\n",
    "    \n",
    "for i in range(10):\n",
    "    print(i)"
   ]
  },
  {
   "cell_type": "code",
   "execution_count": 3,
   "id": "d759ccb9",
   "metadata": {},
   "outputs": [
    {
     "name": "stdout",
     "output_type": "stream",
     "text": [
      "1\n",
      "2\n",
      "3\n",
      "4\n",
      "5\n",
      "6\n",
      "7\n",
      "8\n",
      "9\n"
     ]
    }
   ],
   "source": [
    "for i in range(1, 10):\n",
    "    print(i)"
   ]
  },
  {
   "cell_type": "code",
   "execution_count": 5,
   "id": "29b21e77",
   "metadata": {},
   "outputs": [
    {
     "name": "stdout",
     "output_type": "stream",
     "text": [
      "2\n",
      "4\n",
      "6\n",
      "8\n",
      "10\n"
     ]
    }
   ],
   "source": [
    "# Write a program that prints all even numbers between 1 and 12 in steps of 2\n",
    "for i in range(2, 12, 2):\n",
    "    print(i)"
   ]
  },
  {
   "cell_type": "code",
   "execution_count": 9,
   "id": "4dcde4e0",
   "metadata": {},
   "outputs": [
    {
     "name": "stdout",
     "output_type": "stream",
     "text": [
      "Guess the number I am holding:3\n",
      "You are wrong! You have 4 attempts left\n",
      "Guess the number I am holding:7\n",
      "You are wrong! You have 3 attempts left\n",
      "Guess the number I am holding:2\n",
      "You are wrong! You have 2 attempts left\n",
      "Guess the number I am holding:1\n",
      "You are wrong! You have 1 attempts left\n",
      "Guess the number I am holding:8\n",
      "You are wrong! You have 0 attempts left. the right number is 10\n"
     ]
    }
   ],
   "source": [
    "import random\n",
    "# Computer holds a number between minimum number and maximum number\n",
    "MIN_NUMBER = 1\n",
    "MAX_NUMBER = 10\n",
    "NUM_TRIALS = 5\n",
    "# NUM_ATTEMPTS = 1\n",
    "\n",
    "NUMBER = random.randint(MIN_NUMBER, MAX_NUMBER)\n",
    "\n",
    "# num_attempts keeps track of of the number of attempts as we go through our iterator\n",
    "for num_attempts in range(1, NUM_TRIALS + 1): #[1,2,3,4,5]\n",
    "    user_guess = int(input(\"Guess the number I am holding:\"))\n",
    "    if user_guess == NUMBER:\n",
    "       print(f\"You are right! You guessed the number in {num_attempts} guesses\")\n",
    "       break\n",
    "    else:\n",
    "        num_trials_left = NUM_TRIALS - num_attempts\n",
    "        if num_attempts == NUM_TRIALS:\n",
    "           print(f\"You are wrong! You have {num_trials_left} attempts left. The right number is {NUMBER}\")\n",
    "        else:\n",
    "           print(f\"You are wrong! You have {num_trials_left} attempts left\")"
   ]
  },
  {
   "cell_type": "code",
   "execution_count": 10,
   "id": "dc62b8de",
   "metadata": {},
   "outputs": [
    {
     "name": "stdout",
     "output_type": "stream",
     "text": [
      "Guess the number I am holding:2\n",
      "You are wrong! You have 4 attempts left\n",
      "Guess the number I am holding:4\n",
      "You are wrong! You have 3 attempts left\n",
      "Guess the number I am holding:2\n",
      "You are wrong! You have 2 attempts left\n",
      "Guess the number I am holding:1\n",
      "You are wrong! You have 1 attempts left\n",
      "Guess the number I am holding:3\n",
      "You are wrong! You have 0 attempts left. the right number is 6\n"
     ]
    }
   ],
   "source": [
    "#1. We want the computer to randomly choose a set of numbers and store\n",
    "import random\n",
    "\n",
    "MIN_NUMBER = 1\n",
    "MAX_NUMBER = 10\n",
    "NUM_TRIALS = 5\n",
    "NUM_ATTEMPTS = 1\n",
    "\n",
    "NUMBER = random.randint(MIN_NUMBER, MAX_NUMBER)\n",
    "#2. Guess the number in 5 trials\n",
    "while NUM_ATTEMPTS <= NUM_TRIALS:\n",
    "# Scope of while loop starts here\n",
    "    user_guess = int(input(\"Guess the number I am holding:\"))\n",
    "    if user_guess == NUMBER:\n",
    "       print(f\"You are right! You guessed the number in {NUM_ATTEMPTS} guesses\")\n",
    "       break\n",
    "    else:\n",
    "        num_trials_left = NUM_TRIALS - NUM_ATTEMPTS\n",
    "        if NUM_ATTEMPTS == NUM_TRIALS:\n",
    "           print(f\"You are wrong! You have {num_trials_left} attempts left. the right number is {NUMBER}\")\n",
    "        else:\n",
    "           print(f\"You are wrong! You have {num_trials_left} attempts left\")\n",
    "        NUM_ATTEMPTS += 1\n",
    "       # Scope of while loop ends here"
   ]
  },
  {
   "cell_type": "code",
   "execution_count": null,
   "id": "3ffdc428",
   "metadata": {},
   "outputs": [],
   "source": []
  }
 ],
 "metadata": {
  "kernelspec": {
   "display_name": "Python 3 (ipykernel)",
   "language": "python",
   "name": "python3"
  },
  "language_info": {
   "codemirror_mode": {
    "name": "ipython",
    "version": 3
   },
   "file_extension": ".py",
   "mimetype": "text/x-python",
   "name": "python",
   "nbconvert_exporter": "python",
   "pygments_lexer": "ipython3",
   "version": "3.9.13"
  }
 },
 "nbformat": 4,
 "nbformat_minor": 5
}

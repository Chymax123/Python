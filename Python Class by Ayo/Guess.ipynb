{
 "cells": [
  {
   "cell_type": "markdown",
   "id": "a0e5ead3",
   "metadata": {},
   "source": [
    "# 1. Store a number"
   ]
  },
  {
   "cell_type": "code",
   "execution_count": 5,
   "id": "5075bd63",
   "metadata": {},
   "outputs": [],
   "source": [
    "number = 7"
   ]
  },
  {
   "cell_type": "markdown",
   "id": "1dc5e418",
   "metadata": {},
   "source": [
    "# 2. Ask the user the number we have stored"
   ]
  },
  {
   "cell_type": "code",
   "execution_count": 6,
   "id": "2a76454e",
   "metadata": {},
   "outputs": [
    {
     "name": "stdout",
     "output_type": "stream",
     "text": [
      "Guess the number I am holding\n"
     ]
    }
   ],
   "source": [
    "print(\"Guess the number I am holding\")"
   ]
  },
  {
   "cell_type": "markdown",
   "id": "e2e231ab",
   "metadata": {},
   "source": [
    "# Type casting: converting from one data type to another data type\n",
    "# For example, \"8\" to 8. "
   ]
  },
  {
   "cell_type": "code",
   "execution_count": 15,
   "id": "c0ec3696",
   "metadata": {},
   "outputs": [
    {
     "name": "stdout",
     "output_type": "stream",
     "text": [
      "7\n"
     ]
    }
   ],
   "source": [
    "user_number = int(input())"
   ]
  },
  {
   "cell_type": "markdown",
   "id": "0c69eb17",
   "metadata": {},
   "source": [
    "# Test your interpreter"
   ]
  },
  {
   "cell_type": "code",
   "execution_count": 8,
   "id": "fb21d1cf",
   "metadata": {},
   "outputs": [
    {
     "data": {
      "text/plain": [
       "False"
      ]
     },
     "execution_count": 8,
     "metadata": {},
     "output_type": "execute_result"
    }
   ],
   "source": [
    "2 == 3"
   ]
  },
  {
   "cell_type": "code",
   "execution_count": 9,
   "id": "3d8c2284",
   "metadata": {},
   "outputs": [
    {
     "data": {
      "text/plain": [
       "True"
      ]
     },
     "execution_count": 9,
     "metadata": {},
     "output_type": "execute_result"
    }
   ],
   "source": [
    "2 == 2.0"
   ]
  },
  {
   "cell_type": "code",
   "execution_count": 10,
   "id": "c8c3b557",
   "metadata": {},
   "outputs": [
    {
     "data": {
      "text/plain": [
       "True"
      ]
     },
     "execution_count": 10,
     "metadata": {},
     "output_type": "execute_result"
    }
   ],
   "source": [
    "2 == 2.0000000000000001"
   ]
  },
  {
   "cell_type": "code",
   "execution_count": 11,
   "id": "7d513b3a",
   "metadata": {},
   "outputs": [
    {
     "data": {
      "text/plain": [
       "False"
      ]
     },
     "execution_count": 11,
     "metadata": {},
     "output_type": "execute_result"
    }
   ],
   "source": [
    "2 > 3"
   ]
  },
  {
   "cell_type": "code",
   "execution_count": 12,
   "id": "c23973a2",
   "metadata": {},
   "outputs": [
    {
     "data": {
      "text/plain": [
       "True"
      ]
     },
     "execution_count": 12,
     "metadata": {},
     "output_type": "execute_result"
    }
   ],
   "source": [
    "2 < 3"
   ]
  },
  {
   "cell_type": "markdown",
   "id": "454322a8",
   "metadata": {},
   "source": [
    "# 3. Check if the user number is the number we have stored"
   ]
  },
  {
   "cell_type": "markdown",
   "id": "c766fe25",
   "metadata": {},
   "source": [
    "# 4. Give an output to tell the user if it is right or wrong\n",
    "# This is an if block. Starts here"
   ]
  },
  {
   "cell_type": "code",
   "execution_count": 16,
   "id": "ef352279",
   "metadata": {},
   "outputs": [
    {
     "name": "stdout",
     "output_type": "stream",
     "text": [
      "You are right!\n"
     ]
    }
   ],
   "source": [
    "if user_number == number:\n",
    "    print(\"You are right!\")\n",
    "else:\n",
    "    print(\"you are wrong!\")"
   ]
  },
  {
   "cell_type": "markdown",
   "id": "828ab39b",
   "metadata": {},
   "source": [
    "#  Ends here"
   ]
  },
  {
   "cell_type": "code",
   "execution_count": 14,
   "id": "5e1b4d1d",
   "metadata": {},
   "outputs": [
    {
     "name": "stdout",
     "output_type": "stream",
     "text": [
      "Thanks for playing my game!\n"
     ]
    }
   ],
   "source": [
    "print(\"Thanks for playing my game!\")"
   ]
  }
 ],
 "metadata": {
  "kernelspec": {
   "display_name": "Python 3 (ipykernel)",
   "language": "python",
   "name": "python3"
  },
  "language_info": {
   "codemirror_mode": {
    "name": "ipython",
    "version": 3
   },
   "file_extension": ".py",
   "mimetype": "text/x-python",
   "name": "python",
   "nbconvert_exporter": "python",
   "pygments_lexer": "ipython3",
   "version": "3.9.13"
  }
 },
 "nbformat": 4,
 "nbformat_minor": 5
}

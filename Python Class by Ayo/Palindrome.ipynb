{
 "cells": [
  {
   "cell_type": "code",
   "execution_count": 2,
   "id": "438b703e",
   "metadata": {},
   "outputs": [
    {
     "name": "stdout",
     "output_type": "stream",
     "text": [
      "Enter any number : 525\n",
      "The given number is PALINDROME\n"
     ]
    }
   ],
   "source": [
    "#1. Accept a number from a user and check if the number is palindrome\n",
    "#2. Take the value of the integer and store in a variable\n",
    "#3. Accept the number from the user as a string\n",
    "num = input('Enter any number : ')\n",
    "if num == str(num)[: :-1]:\n",
    "    print('The given number is PALINDROME')\n",
    "else:\n",
    "    print('The given number is NOT a PALINDROME')"
   ]
  },
  {
   "cell_type": "code",
   "execution_count": null,
   "id": "f5707fe8",
   "metadata": {},
   "outputs": [],
   "source": []
  }
 ],
 "metadata": {
  "kernelspec": {
   "display_name": "Python 3 (ipykernel)",
   "language": "python",
   "name": "python3"
  },
  "language_info": {
   "codemirror_mode": {
    "name": "ipython",
    "version": 3
   },
   "file_extension": ".py",
   "mimetype": "text/x-python",
   "name": "python",
   "nbconvert_exporter": "python",
   "pygments_lexer": "ipython3",
   "version": "3.9.13"
  }
 },
 "nbformat": 4,
 "nbformat_minor": 5
}

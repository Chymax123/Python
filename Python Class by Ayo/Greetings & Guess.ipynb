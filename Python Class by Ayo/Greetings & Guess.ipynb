{
 "cells": [
  {
   "cell_type": "code",
   "execution_count": 1,
   "id": "a9299150",
   "metadata": {},
   "outputs": [
    {
     "name": "stdout",
     "output_type": "stream",
     "text": [
      "Guess the number I am holding\n",
      "7\n",
      "You are right!\n",
      "Thanks for playing my game!\n"
     ]
    }
   ],
   "source": [
    "#1.Store a number\n",
    "number = 7\n",
    "#2. Ask the user the number we have stored\n",
    "print(\"Guess the number I am holding\")\n",
    "# Type casting: converting from one data type to another data type\n",
    "# For example, \"8\" to 8. \n",
    "user_number = int(input())\n",
    "#3. Check if the user number is the number we have stored\n",
    "#4. Give an output to tell the user if it is right or wrong\n",
    "#This is an if block. Starts here\n",
    "if user_number == number:\n",
    "    print(\"You are right!\")\n",
    "else:\n",
    "    print(\"you are wrong!\")\n",
    "#Ends here\n",
    "print(\"Thanks for playing my game!\")"
   ]
  },
  {
   "cell_type": "code",
   "execution_count": 3,
   "id": "a00f6bfe",
   "metadata": {},
   "outputs": [
    {
     "name": "stdout",
     "output_type": "stream",
     "text": [
      "Good morning\n",
      "What is your name?\n",
      "Chymax\n",
      "Good morning Chymax. Nice to meet you!\n"
     ]
    }
   ],
   "source": [
    "#1. Greet the user\n",
    "print(\"Good morning\")\n",
    "#2. Request for the name of the user\n",
    "print(\"What is your name?\")\n",
    "name = input()\n",
    "#3. Personalize the greetings\n",
    "print(f\"Good morning {name}. Nice to meet you!\")"
   ]
  },
  {
   "cell_type": "code",
   "execution_count": 3,
   "id": "a0b4cf18",
   "metadata": {},
   "outputs": [
    {
     "data": {
      "text/plain": [
       "9"
      ]
     },
     "execution_count": 3,
     "metadata": {},
     "output_type": "execute_result"
    }
   ],
   "source": [
    "#1. We want the computer to randomly choose from a set of numbers and store\n",
    "import random\n",
    "random.randint(1,10)"
   ]
  },
  {
   "cell_type": "code",
   "execution_count": 5,
   "id": "8909315b",
   "metadata": {},
   "outputs": [
    {
     "data": {
      "text/plain": [
       "2"
      ]
     },
     "execution_count": 5,
     "metadata": {},
     "output_type": "execute_result"
    }
   ],
   "source": [
    "dice = random.randint(1,6)\n",
    "dice"
   ]
  },
  {
   "cell_type": "code",
   "execution_count": 1,
   "id": "457c6e49",
   "metadata": {},
   "outputs": [
    {
     "name": "stdout",
     "output_type": "stream",
     "text": [
      "Hello, What's your name?Chymax\n",
      "Welcome! {name}, Guess a number between 1 and 5 in 5 trials!\n",
      "3\n",
      "Your guess is high\n",
      "2\n",
      "Your guess is high\n",
      "1\n",
      "You guessed the number in 3 tries!\n"
     ]
    }
   ],
   "source": [
    "#1. Generate a random number \n",
    "import random\n",
    "#2. Generate a number between 1 to 5 \n",
    "number = random.randint(1, 5)\n",
    "#3. Prompt the user to enter his/her name\n",
    "name = input(\"Hello, What's your name?\")\n",
    "#4. Welcome the player\n",
    "print('Welcome! {name}, Guess a number between 1 and 5 in 5 trials!')\n",
    "number_of_guesses = 0\n",
    "#5. Design the while loop\n",
    "while number_of_guesses < 5:\n",
    "    guess = int(input())\n",
    "    number_of_guesses += 1\n",
    "    if guess < number:\n",
    "        print('Your guess is low')\n",
    "    if guess > number:\n",
    "        print('Your guess is high')\n",
    "    if guess == number:\n",
    "        break\n",
    "#6. Verifying if the user has guessed the number with the number of guesses\n",
    "if guess == number:\n",
    "    print('You guessed the number in ' + str(number_of_guesses) + ' tries!')\n",
    "else:\n",
    "    print('You did not guess the number, The number was ' + str(number))"
   ]
  },
  {
   "cell_type": "code",
   "execution_count": null,
   "id": "3f807e73",
   "metadata": {},
   "outputs": [
    {
     "name": "stdout",
     "output_type": "stream",
     "text": [
      "Guess the number I am holding:3\n",
      "You are wrong! You have 4 attempts left\n",
      "Guess the number I am holding:2\n",
      "You are wrong! You have 4 attempts left\n"
     ]
    }
   ],
   "source": [
    "#1. We want the computer to randomly choose a set of numbers and store\n",
    "import random\n",
    "\n",
    "MIN_NUMBER = 1\n",
    "MAX_NUMBER = 10\n",
    "NUM_TRIALS = 5\n",
    "NUM_ATTEMPTS = 1\n",
    "\n",
    "NUMBER = random.randint(MIN_NUMBER, MAX_NUMBER)\n",
    "#2. Guess the number in 5 trials\n",
    "while NUM_ATTEMPTS <= NUM_TRIALS:\n",
    "# Scope of while loop starts here\n",
    "    user_guess = int(input(\"Guess the number I am holding:\"))\n",
    "    if user_guess == NUMBER:\n",
    "       print(f\"You are right! You guessed the number in {NUM_ATTEMPTS} guesses\")\n",
    "       break\n",
    "    else:\n",
    "        num_trials_left = NUM_TRIALS - NUM_ATTEMPTS\n",
    "        if NUM_ATTEMPTS == NUM_TRIALS:\n",
    "           print(f\"You are wrong! You have {num_trials_left} attempts left. the right number is {NUMBER}\")\n",
    "        else:\n",
    "           print(f\"You are wrong! You have {num_trials_left} attempts left\")\n",
    "NUM_ATTEMPTS += 1\n",
    "    # Scope of while loop ends here"
   ]
  },
  {
   "cell_type": "code",
   "execution_count": null,
   "id": "23d13107",
   "metadata": {},
   "outputs": [],
   "source": [
    "import random\n",
    "# Computer holds a number between minimum number and maximum number\n",
    "MIN_NUMBER = 1\n",
    "MAX_NUMBER = 10\n",
    "NUM_TRIALS = 5\n",
    "# NUM_ATTEMPTS = 1\n",
    "\n",
    "NUMBER = random.randint(MIN_NUMBER, MAX_NUMBER)\n",
    "\n",
    "# num_attempts keeps track of of the number of attempts as we go through our iterator\n",
    "for num_attempts in range(1, NUM_TRIALS + 1): #[1,2,3,4,5]\n",
    "    user_guess = int(input(\"Guess the number I am holding:\"))\n",
    "    if user_guess == NUMBER:\n",
    "       print(f\"You are right! You guessed the number in {NUM_ATTEMPTS} guesses\")\n",
    "       break\n",
    "    else:\n",
    "        num_trials_left = NUM_TRIALS-NUM_ATTEMPTS\n",
    "        if num_attempts == NUM_TRIALS:\n",
    "           print(f\"You are wrong! You have {num_trials_left} attempts left. the right number is {NUMBER}\")\n",
    "        else:\n",
    "           print(f\"You are wrong! You have {num_trials_left} attempts left\")"
   ]
  },
  {
   "cell_type": "code",
   "execution_count": null,
   "id": "2a695ebe",
   "metadata": {},
   "outputs": [],
   "source": []
  }
 ],
 "metadata": {
  "kernelspec": {
   "display_name": "Python 3 (ipykernel)",
   "language": "python",
   "name": "python3"
  },
  "language_info": {
   "codemirror_mode": {
    "name": "ipython",
    "version": 3
   },
   "file_extension": ".py",
   "mimetype": "text/x-python",
   "name": "python",
   "nbconvert_exporter": "python",
   "pygments_lexer": "ipython3",
   "version": "3.9.13"
  }
 },
 "nbformat": 4,
 "nbformat_minor": 5
}

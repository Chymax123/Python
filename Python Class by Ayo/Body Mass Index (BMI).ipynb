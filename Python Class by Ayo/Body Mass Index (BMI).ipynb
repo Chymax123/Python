{
 "cells": [
  {
   "cell_type": "code",
   "execution_count": 13,
   "id": "5f78af87",
   "metadata": {
    "scrolled": true
   },
   "outputs": [
    {
     "name": "stdout",
     "output_type": "stream",
     "text": [
      "Enter your height in cm: 183\n",
      "Enter your weight in kg: 200\n",
      "You are severely obese.\n"
     ]
    }
   ],
   "source": [
    "#1. Ask the user their height & weight\n",
    "height = float(input(\"Enter your height in cm: \"))\n",
    "weight = float(input(\"Enter your weight in kg: \"))\n",
    "#2. The formula to calculate BMI is weight (kg)/{height (m)}^2\n",
    "#3. Divide the height by 100 to convert the centimetres into meters.\n",
    "bmi = weight / (height/100)**2\n",
    "if bmi <= 18.4:\n",
    "    print('You are underweight')\n",
    "if bmi >= 18.5 and bmi <= 24.9:\n",
    "    print('You are healthy')\n",
    "if bmi >= 25 and bmi <= 29.9:\n",
    "    print(\"You are over weight\")\n",
    "if bmi >= 30 and bmi <= 34.9:\n",
    "    print('You are severely over weight')\n",
    "if bmi >= 35 and bmi <= 39.9:\n",
    "    print(\"You are obese.\")\n",
    "else:\n",
    "    print(\"You are severely obese.\")"
   ]
  },
  {
   "cell_type": "code",
   "execution_count": 5,
   "id": "9b3de1f7",
   "metadata": {},
   "outputs": [
    {
     "name": "stdout",
     "output_type": "stream",
     "text": [
      "Enter your height in cm: 183\n",
      "Enter your weight in kg: 110\n",
      "You are severely over weight.\n"
     ]
    }
   ],
   "source": [
    "#1. Ask the user their height & weight\n",
    "height = float(input(\"Enter your height in cm: \"))\n",
    "weight = float(input(\"Enter your weight in kg: \"))\n",
    "#2. The formula to calculate BMI is weight (kg)/{height (m)}^2\n",
    "#3. Divide the height by 100 to convert the centimetres into meters.\n",
    "BMI = weight / (height/100)**2\n",
    "if BMI <= 18.4:\n",
    "    print(\"You are underweight.\")\n",
    "elif BMI <= 24.9:\n",
    "    print(\"You are healthy.\")\n",
    "elif BMI <= 29.9:\n",
    "    print(\"You are over weight.\")\n",
    "elif BMI <= 34.9:\n",
    "    print(\"You are severely over weight.\")\n",
    "elif BMI <= 39.9:\n",
    "    print(\"You are obese.\")\n",
    "else:\n",
    "    print(\"You are severely obese.\")"
   ]
  },
  {
   "cell_type": "code",
   "execution_count": null,
   "id": "f69a8f0b",
   "metadata": {},
   "outputs": [],
   "source": []
  }
 ],
 "metadata": {
  "kernelspec": {
   "display_name": "Python 3 (ipykernel)",
   "language": "python",
   "name": "python3"
  },
  "language_info": {
   "codemirror_mode": {
    "name": "ipython",
    "version": 3
   },
   "file_extension": ".py",
   "mimetype": "text/x-python",
   "name": "python",
   "nbconvert_exporter": "python",
   "pygments_lexer": "ipython3",
   "version": "3.9.13"
  }
 },
 "nbformat": 4,
 "nbformat_minor": 5
}
